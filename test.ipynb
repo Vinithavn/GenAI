{
 "cells": [
  {
   "cell_type": "code",
   "execution_count": 26,
   "metadata": {},
   "outputs": [
    {
     "name": "stdout",
     "output_type": "stream",
     "text": [
      "Successfully connected to MongoDB.\n"
     ]
    }
   ],
   "source": [
    "import os\n",
    "from pymongo import MongoClient\n",
    "conn_url = \"mongodb://localhost:27017/\"\n",
    "\n",
    "try:\n",
    "    client = MongoClient(conn_url)\n",
    "    db = client[\"your_database_name\"]  # Choose your database name\n",
    "    collection = db[\"chat_history\"]  # Choose your collection name\n",
    "    print(\"Successfully connected to MongoDB.\")\n",
    "except Exception as e:\n",
    "    print(f\"Error connecting to MongoDB: {e}\")\n",
    "    # Handle the error appropriately, e.g., exit or use a fallback mechanism\\\n",
    "client.close()"
   ]
  },
  {
   "cell_type": "code",
   "execution_count": 6,
   "metadata": {},
   "outputs": [],
   "source": [
    "from datetime import datetime\n",
    "from fastapi import FastAPI, HTTPException, Depends\n",
    "# ... other imports\n",
    "\n",
    "def chat_endpoint(user_id: str, message: str): # Add session_id if needed\n",
    "    try:\n",
    "        # 1. Store the user's message\n",
    "        collection.insert_one({\n",
    "            \"user_id\": user_id,\n",
    "            \"timestamp\": datetime.now(),\n",
    "            \"role\": \"user\",\n",
    "            \"content\": message\n",
    "        })\n",
    "\n",
    "        # 2. Get the chat history (last 10 messages)\n",
    "        chat_history = list(collection.find(\n",
    "            {\"user_id\": user_id},\n",
    "            sort=[(\"timestamp\", -1)],  # Sort by timestamp, newest first\n",
    "            limit=10\n",
    "        ))\n",
    "        chat_history.reverse() # reverse the order so that the oldest message comes first.\n",
    "\n",
    "        # 3. Use chat_history with your LangChain LLM\n",
    "        # ... your LangChain logic here, using chat_history ...\n",
    "        # Example (adapt to your specific LLM setup):\n",
    "        # llm_response = your_llm(message, history=chat_history)\n",
    "\n",
    "        print(chat_history)\n",
    "\n",
    "        # 4. Store the assistant's response\n",
    "        collection.insert_one({\n",
    "            \"user_id\": user_id,\n",
    "            \"timestamp\": datetime.now(),\n",
    "            \"role\": \"assistant\",\n",
    "            \"content\": \"llm_response\" # replace with actual response.\n",
    "        })\n",
    "\n",
    "        return {\"response\": \"llm_response\",\"history\":chat_history}\n",
    "\n",
    "    except Exception as e:\n",
    "        print(f\"Error in chat endpoint: {e}\")\n",
    "        raise HTTPException(status_code=500, detail=\"An error occurred during chat.\")"
   ]
  },
  {
   "cell_type": "code",
   "execution_count": 8,
   "metadata": {},
   "outputs": [
    {
     "name": "stdout",
     "output_type": "stream",
     "text": [
      "[{'_id': ObjectId('67b59fa76f3aa722783be9aa'), 'user_id': '1', 'timestamp': datetime.datetime(2025, 2, 19, 14, 38, 55, 420000), 'role': 'user', 'content': 'sampl message'}, {'_id': ObjectId('67b59fa76f3aa722783be9ab'), 'user_id': '1', 'timestamp': datetime.datetime(2025, 2, 19, 14, 38, 55, 438000), 'role': 'assistant', 'content': 'llm_response'}, {'_id': ObjectId('67b59fe26f3aa722783be9ac'), 'user_id': '1', 'timestamp': datetime.datetime(2025, 2, 19, 14, 39, 54, 941000), 'role': 'user', 'content': 'sampl message'}, {'_id': ObjectId('67b59fe26f3aa722783be9ad'), 'user_id': '1', 'timestamp': datetime.datetime(2025, 2, 19, 14, 39, 54, 943000), 'role': 'assistant', 'content': 'llm_response'}, {'_id': ObjectId('67b5a0436f3aa722783be9ae'), 'user_id': '1', 'timestamp': datetime.datetime(2025, 2, 19, 14, 41, 31, 895000), 'role': 'user', 'content': 'sampl message'}, {'_id': ObjectId('67b5a0436f3aa722783be9af'), 'user_id': '1', 'timestamp': datetime.datetime(2025, 2, 19, 14, 41, 31, 898000), 'role': 'assistant', 'content': 'llm_response'}, {'_id': ObjectId('67b5a04a6f3aa722783be9b0'), 'user_id': '1', 'timestamp': datetime.datetime(2025, 2, 19, 14, 41, 38, 805000), 'role': 'user', 'content': 'sampl message'}]\n"
     ]
    }
   ],
   "source": [
    "out = chat_endpoint(\"1\",\"sampl message\")"
   ]
  },
  {
   "cell_type": "code",
   "execution_count": 19,
   "metadata": {},
   "outputs": [
    {
     "data": {
      "text/plain": [
       "[{'_id': ObjectId('67b59fa76f3aa722783be9aa'),\n",
       "  'user_id': '1',\n",
       "  'timestamp': datetime.datetime(2025, 2, 19, 14, 38, 55, 420000),\n",
       "  'role': 'user',\n",
       "  'content': 'sampl message'},\n",
       " {'_id': ObjectId('67b59fa76f3aa722783be9ab'),\n",
       "  'user_id': '1',\n",
       "  'timestamp': datetime.datetime(2025, 2, 19, 14, 38, 55, 438000),\n",
       "  'role': 'assistant',\n",
       "  'content': 'llm_response'},\n",
       " {'_id': ObjectId('67b59fe26f3aa722783be9ac'),\n",
       "  'user_id': '1',\n",
       "  'timestamp': datetime.datetime(2025, 2, 19, 14, 39, 54, 941000),\n",
       "  'role': 'user',\n",
       "  'content': 'sampl message'},\n",
       " {'_id': ObjectId('67b59fe26f3aa722783be9ad'),\n",
       "  'user_id': '1',\n",
       "  'timestamp': datetime.datetime(2025, 2, 19, 14, 39, 54, 943000),\n",
       "  'role': 'assistant',\n",
       "  'content': 'llm_response'},\n",
       " {'_id': ObjectId('67b5a0436f3aa722783be9ae'),\n",
       "  'user_id': '1',\n",
       "  'timestamp': datetime.datetime(2025, 2, 19, 14, 41, 31, 895000),\n",
       "  'role': 'user',\n",
       "  'content': 'sampl message'},\n",
       " {'_id': ObjectId('67b5a0436f3aa722783be9af'),\n",
       "  'user_id': '1',\n",
       "  'timestamp': datetime.datetime(2025, 2, 19, 14, 41, 31, 898000),\n",
       "  'role': 'assistant',\n",
       "  'content': 'llm_response'},\n",
       " {'_id': ObjectId('67b5a04a6f3aa722783be9b0'),\n",
       "  'user_id': '1',\n",
       "  'timestamp': datetime.datetime(2025, 2, 19, 14, 41, 38, 805000),\n",
       "  'role': 'user',\n",
       "  'content': 'sampl message'},\n",
       " {'_id': ObjectId('67b5a04a6f3aa722783be9b1'),\n",
       "  'user_id': '1',\n",
       "  'timestamp': datetime.datetime(2025, 2, 19, 14, 41, 38, 807000),\n",
       "  'role': 'assistant',\n",
       "  'content': 'llm_response'}]"
      ]
     },
     "execution_count": 19,
     "metadata": {},
     "output_type": "execute_result"
    }
   ],
   "source": [
    "out = chat_history = list(collection.find(\n",
    "            {\"user_id\": \"1\"},\n",
    "            sort=[(\"timestamp\", -1)],  # Sort by timestamp, newest first\n",
    "            limit=10\n",
    "        ))\n",
    "chat_history.reverse()\n",
    "out"
   ]
  },
  {
   "cell_type": "code",
   "execution_count": 21,
   "metadata": {},
   "outputs": [
    {
     "name": "stdout",
     "output_type": "stream",
     "text": [
      "user:sampl message\n",
      " assistant:llm_response\n",
      " user:sampl message\n",
      " assistant:llm_response\n",
      " user:sampl message\n",
      " assistant:llm_response\n",
      " user:sampl message\n",
      " assistant:llm_response\n",
      "\n"
     ]
    }
   ],
   "source": [
    "print(\" \".join([chat[\"role\"]+\":\"+chat[\"content\"]+\"\\n\" for chat in out]))"
   ]
  },
  {
   "cell_type": "code",
   "execution_count": 23,
   "metadata": {},
   "outputs": [],
   "source": [
    "def chat(query:str):\n",
    "\n",
    "    \n",
    "    # If the user is an authenticated user\n",
    "    user_id = 1\n",
    "    \n",
    "    # if chat_history_model is not None:\n",
    "    #     print(\"existing user\")\n",
    "    #     history_collection = list(collection.find(\n",
    "    #         {\"user_id\": user_id},\n",
    "    #         sort=[(\"timestamp\", -1)],  # Sort by timestamp, newest first\n",
    "    #         limit=10\n",
    "    #     ))\n",
    "    #     history_collection.reverse()\n",
    "    print(\"New user\")\n",
    "    history_collection = None\n",
    "\n",
    "    if history_collection:\n",
    "        chat_message_history = \" \".join([chat[\"role\"]+\":\"+chat[\"content\"]+\"\\n\" for chat in history_collection])\n",
    "    else:\n",
    "        chat_message_history = \"\"\n",
    "\n",
    "    print(\"CHAT MESSAGE HISORY:\",chat_message_history)\n",
    "\n",
    "    # Get the LLM response for the query with history\n",
    "    llm_response = \"Hello there\"\n",
    "    print(llm_response)\n",
    "    #store the chat message information to the sqlite db\n",
    "\n",
    "\n",
    "    #Store the updated chat history to Mongodb\n",
    "    collection.insert_one({\n",
    "            \"user_id\": user_id,\n",
    "            \"timestamp\": datetime.now(),\n",
    "            \"role\": \"user\",\n",
    "            \"content\": query\n",
    "        })\n",
    "    collection.insert_one({\n",
    "        \"user_id\": user_id,\n",
    "        \"timestamp\": datetime.now(),\n",
    "        \"role\": \"assistant\",\n",
    "        \"content\": llm_response  # replace with actual response.\n",
    "    })\n",
    "    # except:\n",
    "    #     raise HTTPException(status_code=500, detail=\"An error occurred during chat.\")\n",
    "\n",
    "    return llm_response\n"
   ]
  },
  {
   "cell_type": "code",
   "execution_count": 24,
   "metadata": {},
   "outputs": [
    {
     "name": "stdout",
     "output_type": "stream",
     "text": [
      "New user\n",
      "CHAT MESSAGE HISORY: \n",
      "Hello there\n"
     ]
    },
    {
     "data": {
      "text/plain": [
       "'Hello there'"
      ]
     },
     "execution_count": 24,
     "metadata": {},
     "output_type": "execute_result"
    }
   ],
   "source": [
    "chat(\"HI!\")"
   ]
  },
  {
   "cell_type": "code",
   "execution_count": null,
   "metadata": {},
   "outputs": [],
   "source": []
  }
 ],
 "metadata": {
  "kernelspec": {
   "display_name": "langchain_env",
   "language": "python",
   "name": "python3"
  },
  "language_info": {
   "codemirror_mode": {
    "name": "ipython",
    "version": 3
   },
   "file_extension": ".py",
   "mimetype": "text/x-python",
   "name": "python",
   "nbconvert_exporter": "python",
   "pygments_lexer": "ipython3",
   "version": "3.11.11"
  }
 },
 "nbformat": 4,
 "nbformat_minor": 2
}
