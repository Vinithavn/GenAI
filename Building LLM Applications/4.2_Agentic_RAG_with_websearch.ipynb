{
 "cells": [
  {
   "cell_type": "code",
   "execution_count": 1,
   "metadata": {},
   "outputs": [],
   "source": [
    "# !pip install langchain-core --upgrade\n",
    "# !pip install Pydantic --upgrade \n",
    "# !pip install -qU duckduckgo-search langchain-community"
   ]
  },
  {
   "cell_type": "code",
   "execution_count": 2,
   "metadata": {},
   "outputs": [
    {
     "name": "stderr",
     "output_type": "stream",
     "text": [
      "c:\\Users\\Vinitha\\anaconda3\\envs\\langchain_env\\Lib\\site-packages\\tqdm\\auto.py:21: TqdmWarning: IProgress not found. Please update jupyter and ipywidgets. See https://ipywidgets.readthedocs.io/en/stable/user_install.html\n",
      "  from .autonotebook import tqdm as notebook_tqdm\n"
     ]
    }
   ],
   "source": [
    "import langchain\n",
    "from langchain_google_genai import ChatGoogleGenerativeAI "
   ]
  },
  {
   "cell_type": "code",
   "execution_count": 3,
   "metadata": {},
   "outputs": [
    {
     "data": {
      "text/plain": [
       "True"
      ]
     },
     "execution_count": 3,
     "metadata": {},
     "output_type": "execute_result"
    }
   ],
   "source": [
    "from dotenv import load_dotenv\n",
    "import os\n",
    "load_dotenv()"
   ]
  },
  {
   "cell_type": "code",
   "execution_count": 4,
   "metadata": {},
   "outputs": [],
   "source": [
    "os.environ[\"LANGCHAIN_TRACING_V2\"] = \"true\"\n",
    "os.environ[\"LANGCHAIN_API_KEY\"] = os.getenv(\"langchain_api_key\")\n",
    "os.environ[\"GOOGLE_API_KEY\"] = os.getenv(\"GOOGLE_API_KEY\")\n",
    "os.environ[\"OPENAI_API_KEY\"] = os.getenv(\"OPENAI_API_KEY\")\n",
    "os.environ[\"TAVILY_API_KEY\"] = os.getenv(\"TAVILY_API_KEY\")"
   ]
  },
  {
   "cell_type": "code",
   "execution_count": 5,
   "metadata": {},
   "outputs": [],
   "source": [
    "# Load the LLM model for the generation\n",
    "llm = ChatGoogleGenerativeAI(model=\"gemini-1.5-flash\")"
   ]
  },
  {
   "cell_type": "code",
   "execution_count": 6,
   "metadata": {},
   "outputs": [],
   "source": [
    "# Prepare the embedding model for the vector similarity search\n",
    "from langchain_google_genai import GoogleGenerativeAIEmbeddings\n",
    "embeddings = GoogleGenerativeAIEmbeddings(model=\"models/embedding-001\")"
   ]
  },
  {
   "cell_type": "code",
   "execution_count": 7,
   "metadata": {},
   "outputs": [],
   "source": [
    "from langchain_core.vectorstores import InMemoryVectorStore\n",
    "vector_store_1 = InMemoryVectorStore(embeddings)"
   ]
  },
  {
   "cell_type": "code",
   "execution_count": 8,
   "metadata": {},
   "outputs": [
    {
     "name": "stderr",
     "output_type": "stream",
     "text": [
      "USER_AGENT environment variable not set, consider setting it to identify your requests.\n"
     ]
    }
   ],
   "source": [
    "import bs4\n",
    "from langchain_community.document_loaders import WebBaseLoader\n",
    "bs4_strainer = bs4.SoupStrainer(class_=(\"post\"))"
   ]
  },
  {
   "cell_type": "code",
   "execution_count": 9,
   "metadata": {},
   "outputs": [],
   "source": [
    "loader = WebBaseLoader(web_path=\"https://jalammar.github.io/illustrated-transformer/\",\n",
    "                        bs_kwargs={\"parse_only\": bs4_strainer}\n",
    "                        )\n",
    "docs = loader.load()"
   ]
  },
  {
   "cell_type": "code",
   "execution_count": 10,
   "metadata": {},
   "outputs": [
    {
     "name": "stdout",
     "output_type": "stream",
     "text": [
      "Total characters: 24876\n",
      "\n",
      "The Illustrated Transformer\n",
      "\n",
      "Discussions:\n",
      "Hacker News (65 points, 4 comments), Reddit r/MachineLearning (29 points, 3 comments)\n",
      "\n",
      "\n",
      "Translations: Arabic, Chinese (Simplified) 1, Chinese (Simplified) 2, French 1, French 2, Italian, Japanese, Korean, Persian, Russian, Spanish 1, Spanish 2, Vietnamese\n",
      "\n",
      "Watch: MIT’s Deep Learning State of the Art lecture referencing this post\n",
      "\n",
      "Featured in courses at Stanford, Harvard, MIT, Princeton, CMU and others\n",
      "\n",
      "\n",
      "\n",
      "\n",
      "\n",
      "Update: This post has now become a book! Check \n"
     ]
    }
   ],
   "source": [
    "assert len(docs) == 1\n",
    "print(f\"Total characters: {len(docs[0].page_content)}\")\n",
    "print(docs[0].page_content[:500])"
   ]
  },
  {
   "cell_type": "code",
   "execution_count": 11,
   "metadata": {},
   "outputs": [
    {
     "name": "stdout",
     "output_type": "stream",
     "text": [
      "Split blog post into 37 sub-documents.\n"
     ]
    }
   ],
   "source": [
    "from langchain_text_splitters import RecursiveCharacterTextSplitter\n",
    "\n",
    "text_splitter = RecursiveCharacterTextSplitter(\n",
    "    chunk_size=1000,  # chunk size (characters)\n",
    "    chunk_overlap=200,  # chunk overlap (characters)\n",
    "    add_start_index=True,  # track index in original document\n",
    ")\n",
    "split_chunks = text_splitter.split_documents(docs)\n",
    "\n",
    "print(f\"Split blog post into {len(split_chunks)} sub-documents.\")"
   ]
  },
  {
   "cell_type": "code",
   "execution_count": 12,
   "metadata": {},
   "outputs": [],
   "source": [
    "document_ids = vector_store_1.add_documents(documents=split_chunks)\n",
    "retriever = vector_store_1.as_retriever()"
   ]
  },
  {
   "cell_type": "code",
   "execution_count": 13,
   "metadata": {},
   "outputs": [],
   "source": [
    "from langchain.tools.retriever import create_retriever_tool\n",
    "from langchain_community.tools import DuckDuckGoSearchResults\n",
    "\n",
    "retriever_tool = create_retriever_tool(\n",
    "    retriever,\n",
    "    \"retrieve_context_on_attention\",\n",
    "    \"Search and return information about Transformers and the attention mechanism used in the Language processing tasks\",\n",
    ")\n",
    "\n",
    "\n",
    "search_tool = DuckDuckGoSearchResults()\n",
    "\n",
    "tools = [retriever_tool,search_tool]"
   ]
  },
  {
   "cell_type": "code",
   "execution_count": 15,
   "metadata": {},
   "outputs": [
    {
     "data": {
      "text/plain": [
       "'snippet: Beijing, city, province-level shi (municipality), and capital of the People\\'s Republic of China. The city has been an integral part of China\\'s history over the past eight centuries. Redolent with historical, cultural, and political significance, it is one of the world\\'s great cities. Learn more about Beijing here., title: Beijing | Province, City, History, Map, & Facts | Britannica, link: https://www.britannica.com/place/Beijing, snippet: Capital of China. Written by Matteo Updated May. 30, 2024. Beijing, which means \"Northern Capital\" (from the Chinese characters 北 for north and 京 for capital), is the capital of the People\\'s Republic of China and one of the most heavily populated cities in the world., title: What Is the Capital of China? Beijing - National Capital - China Travel, link: https://www.chinatravel.com/guide/capital-of-china, snippet: Beijing, Jing for short, is a metropolis in northern China and the capital of China. Lying 70 mi (102 km) west of Bohai Sea, it borders Hebei Province to the north, west, south, and for a small section in the east and Tianjin to the southeast. This city is a major transportation hub, with dozens of railways, roads and motorways passing through ..., title: Beijing Facts: Introduction, Location, History, Districts, Attractions, link: https://www.travelchinaguide.com/cityguides/beijing/, snippet: People\\'s Republic of China: (Provinces in the People\\'s Republic of China 23 Provinces). A brief overview of the different provinces is listed below: Anhui. Capital: Hefei Location: Anhui is a province in eastern China, located at the middle and lower reaches of the Yangtze and Huaihe rivers. It\\'s country\\'s one of the smallest provinces, with a population of 61.1 million and a total area of ..., title: List of Provinces of China and their Capitals - GeeksforGeeks, link: https://www.geeksforgeeks.org/list-of-provinces-of-china-and-their-capitals/'"
      ]
     },
     "execution_count": 15,
     "metadata": {},
     "output_type": "execute_result"
    }
   ],
   "source": [
    "search_tool.invoke({'query': 'Which is the captial of China?'})"
   ]
  },
  {
   "cell_type": "code",
   "execution_count": 16,
   "metadata": {},
   "outputs": [],
   "source": [
    "from typing_extensions import TypedDict\n",
    "from langgraph.graph.message import add_messages,BaseMessage\n",
    "from typing import Annotated, Sequence\n",
    "\n",
    "class State(TypedDict):\n",
    "    # The add_messages function defines how an update should be processed\n",
    "    # Default is to replace. add_messages says \"append\"\n",
    "    messages: Annotated[Sequence[BaseMessage], add_messages]"
   ]
  },
  {
   "cell_type": "code",
   "execution_count": 17,
   "metadata": {},
   "outputs": [],
   "source": [
    "from langchain_core.prompts import PromptTemplate\n",
    "\n",
    "rag_prompt = PromptTemplate.from_template(\"\"\"You are an assistant for question-answering tasks. Use the following pieces of retrieved context to answer the question. If you don't know the answer, just say that you don't know. Use three sentences maximum and keep the answer concise.\n",
    "Question: {question} \n",
    "Context: {context}\n",
    "Answer:\n",
    "\"\"\")"
   ]
  },
  {
   "cell_type": "code",
   "execution_count": 18,
   "metadata": {},
   "outputs": [],
   "source": [
    "def generate(state:State):\n",
    "    print(\"GENERATING USING THE RETRIEVED CONTENT\")\n",
    "    question = state[\"messages\"][0].content\n",
    "    retrieved_contents = state[\"messages\"][-1].content\n",
    "    rag_message = rag_prompt.invoke({\"question\":question,\"context\":retrieved_contents})\n",
    "    llm_response = llm.invoke(rag_message).content\n",
    "    return {\"messages\":[llm_response]}"
   ]
  },
  {
   "cell_type": "code",
   "execution_count": 19,
   "metadata": {},
   "outputs": [],
   "source": [
    "def web_search(state:State):\n",
    "    print(\"Initiating the web search\")\n",
    "    question = state[\"messages\"][0].content\n",
    "    search_result = search_tool.invoke({\"query\": question})\n",
    "    print(search_result)\n",
    "    return {\"messages\":[search_result]}"
   ]
  },
  {
   "cell_type": "code",
   "execution_count": 20,
   "metadata": {},
   "outputs": [],
   "source": [
    "from langchain_google_genai import ChatGoogleGenerativeAI\n",
    "llm2 = ChatGoogleGenerativeAI(model=\"gemini-1.5-pro\")"
   ]
  },
  {
   "cell_type": "code",
   "execution_count": 21,
   "metadata": {},
   "outputs": [],
   "source": [
    "def agent(state):  \n",
    "    print(\"---CALL AGENT---\")\n",
    "    messages = state[\"messages\"]\n",
    "    model = llm2.bind_tools(tools)\n",
    "    response = model.invoke(messages)\n",
    "    # We return a list, because this will get added to the existing list\n",
    "    return {\"messages\": [response]}"
   ]
  },
  {
   "cell_type": "code",
   "execution_count": 22,
   "metadata": {},
   "outputs": [],
   "source": [
    "def custom_tool_condition(state):\n",
    "    messages = state[\"messages\"][-1]\n",
    "    tool_name = messages.additional_kwargs[\"function_call\"][\"name\"]\n",
    "    \n",
    "    if tool_name == \"retrieve_context_on_attention\":\n",
    "        return \"retrieve_tool\"\n",
    "    else:\n",
    "        return \"search_tool\""
   ]
  },
  {
   "cell_type": "code",
   "execution_count": 23,
   "metadata": {},
   "outputs": [],
   "source": [
    "# Graph structure to see the control flow\n",
    "from langgraph.graph import END, StateGraph, START\n",
    "from langgraph.prebuilt import ToolNode\n",
    "from langgraph.prebuilt import tools_condition"
   ]
  },
  {
   "cell_type": "code",
   "execution_count": 24,
   "metadata": {},
   "outputs": [],
   "source": [
    "\n",
    "workflow = StateGraph(State)\n",
    "\n",
    "workflow.add_node(\"agent\", agent) \n",
    "\n",
    "retrieve_tool_node = ToolNode([retriever_tool]) \n",
    "search_tool_node = ToolNode([search_tool])\n",
    "\n",
    "workflow.add_node(\"retrieve_tool\", retrieve_tool_node) \n",
    "workflow.add_node(\"search_tool\", search_tool_node) \n",
    "workflow.add_node(\"generate\", generate)\n",
    "workflow.add_node(\"websearch\",web_search)\n",
    "\n",
    "workflow.add_edge(START, \"agent\")\n",
    "\n",
    "workflow.add_conditional_edges(\n",
    "    \"agent\",\n",
    "    custom_tool_condition,\n",
    "    {\n",
    "        \"retrieve_tool\": \"retrieve_tool\",\n",
    "        \"search_tool\": \"search_tool\"\n",
    "    },\n",
    ")\n",
    "\n",
    "workflow.add_edge(\"retrieve_tool\", \"generate\")\n",
    "workflow.add_edge(\"search_tool\", \"websearch\")\n",
    "workflow.add_edge(\"websearch\",END)\n",
    "workflow.add_edge(\"generate\", END)\n",
    "\n",
    "# Compile\n",
    "graph = workflow.compile()"
   ]
  },
  {
   "cell_type": "code",
   "execution_count": 25,
   "metadata": {},
   "outputs": [
    {
     "data": {
      "image/png": "[encoded data removed]",
      "text/plain": [
       "<IPython.core.display.Image object>"
      ]
     },
     "metadata": {},
     "output_type": "display_data"
    }
   ],
   "source": [
    "from IPython.display import Image, display\n",
    "\n",
    "try:\n",
    "    display(Image(graph.get_graph(xray=True).draw_mermaid_png()))\n",
    "except Exception:\n",
    "    # This requires some extra dependencies and is optional\n",
    "    pass"
   ]
  },
  {
   "cell_type": "code",
   "execution_count": 26,
   "metadata": {},
   "outputs": [
    {
     "name": "stdout",
     "output_type": "stream",
     "text": [
      "---CALL AGENT---\n",
      "GENERATING USING THE RETRIEVED CONTENT\n",
      "An attention mechanism allows a model to focus on different parts of an input sequence when processing each word.  In the example, when processing \"it,\" the attention mechanism helps the model associate \"it\" with \"animal\" and \"tired\" by incorporating their representations into the encoding of \"it\".  This allows the model to better understand the context and meaning of the word.\n",
      "\n"
     ]
    }
   ],
   "source": [
    "result = graph.invoke({\"messages\":[(\"user\",\"What is attention mechanism?\")]}) \n",
    "print(result[\"messages\"][-1].content)"
   ]
  },
  {
   "cell_type": "code",
   "execution_count": 28,
   "metadata": {},
   "outputs": [
    {
     "name": "stdout",
     "output_type": "stream",
     "text": [
      "snippet: Learn about the fastest animal in the world, the peregrine falcon, and its diving speed of 242 miles per hour. Also discover the fastest mammal, the Mexican free-tailed bat, and the fastest insect, the male horsefly, and their amazing adaptations., title: The Fastest Animals On Planet Earth (242 MPH!?), link: https://a-z-animals.com/animals/lists/fastest-animals/, snippet: The **Peregrine Falcon** swoops down at an incredible 389 km/h, making it the fastest in the world. Then there's the **Pronghorn**, racing at 88.5 km/h. This list will take you on a journey through the animal kingdom and showcase the incredible speed and agility of some of nature's most impressive creatures., title: 25 Fastest Animals Ranked by Speed - List25, link: https://list25.com/25-fastest-animals-ranked-by-speed/, snippet: The Pronghorn, native to North America, is the fastest land animal in the Western Hemisphere. It can run at speeds of up to 55 miles per hour (88 kilometers per hour). Unlike the Cheetah, Pronghorns are built for endurance and can maintain high speeds over long distances, making them exceptional marathon runners., title: 12 of the Fastest Animals in the World - Nature of Home, link: https://thenatureofhome.com/fastest-animals-in-the-world/, snippet: Learn about the top 10 fastest land animals, such as cheetahs, pronghorns, and springboks, and their top speeds, weights, and habitats. Also discover the fastest animals in the air and water, such as swifts and sailfish., title: The Fastest Animals In The World - WorldAtlas, link: https://www.worldatlas.com/animals/the-fastest-animals-in-the-world.html\n"
     ]
    }
   ],
   "source": [
    "# result = graph.invoke({\"messages\":[(\"user\",\"What is the fastest animal in the world?\")]}) \n",
    "print(result[\"messages\"][-1].content)"
   ]
  },
  {
   "cell_type": "code",
   "execution_count": null,
   "metadata": {},
   "outputs": [],
   "source": []
  }
 ],
 "metadata": {
  "kernelspec": {
   "display_name": "langchain_env",
   "language": "python",
   "name": "python3"
  },
  "language_info": {
   "codemirror_mode": {
    "name": "ipython",
    "version": 3
   },
   "file_extension": ".py",
   "mimetype": "text/x-python",
   "name": "python",
   "nbconvert_exporter": "python",
   "pygments_lexer": "ipython3",
   "version": "3.12.4"
  }
 },
 "nbformat": 4,
 "nbformat_minor": 2
}
