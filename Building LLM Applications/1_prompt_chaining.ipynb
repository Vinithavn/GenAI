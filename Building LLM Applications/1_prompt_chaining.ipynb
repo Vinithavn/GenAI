{
 "cells": [
  {
   "cell_type": "markdown",
   "metadata": {},
   "source": [
    "## Notes\n"
   ]
  },
  {
   "cell_type": "code",
   "execution_count": 14,
   "metadata": {},
   "outputs": [],
   "source": [
    "import langchain\n",
    "from langchain_core.prompts import PromptTemplate \n",
    "from langchain_google_genai import ChatGoogleGenerativeAI\n",
    "from langchain.schema import StrOutputParser\n",
    "from langchain.schema.runnable import RunnablePassthrough"
   ]
  },
  {
   "cell_type": "code",
   "execution_count": 8,
   "metadata": {},
   "outputs": [
    {
     "data": {
      "text/plain": [
       "True"
      ]
     },
     "execution_count": 8,
     "metadata": {},
     "output_type": "execute_result"
    }
   ],
   "source": [
    "from dotenv import load_dotenv\n",
    "import os\n",
    "\n",
    "load_dotenv()"
   ]
  },
  {
   "cell_type": "code",
   "execution_count": 9,
   "metadata": {},
   "outputs": [],
   "source": [
    "os.environ[\"LANGCHAIN_TRACING_V2\"] = \"true\"\n",
    "os.environ[\"LANGCHAIN_API_KEY\"] = os.getenv(\"langchain_api_key\")\n",
    "os.environ[\"GOOGLE_API_KEY\"] = os.getenv(\"GOOGLE_API_KEY\")"
   ]
  },
  {
   "cell_type": "code",
   "execution_count": 15,
   "metadata": {},
   "outputs": [],
   "source": [
    "model = ChatGoogleGenerativeAI(model=\"gemini-1.5-flash\")"
   ]
  },
  {
   "cell_type": "markdown",
   "metadata": {},
   "source": [
    "### Use case with a single chain"
   ]
  },
  {
   "cell_type": "code",
   "execution_count": 23,
   "metadata": {},
   "outputs": [
    {
     "data": {
      "text/plain": [
       "'Why are cats such bad dancers?  Because they have two left feet... and two more left feet.\\n'"
      ]
     },
     "execution_count": 23,
     "metadata": {},
     "output_type": "execute_result"
    }
   ],
   "source": [
    "joke_prompt = PromptTemplate.from_template(\"Write a joke about {animal}\")\n",
    "chain = joke_prompt|model|StrOutputParser()\n",
    "chain.invoke({\"animal\":\"cats\"})"
   ]
  },
  {
   "cell_type": "markdown",
   "metadata": {},
   "source": [
    "### Mutliple chains"
   ]
  },
  {
   "cell_type": "markdown",
   "metadata": {},
   "source": [
    "Here the output from one chain can be passed as an input to the next chain and so on"
   ]
  },
  {
   "cell_type": "markdown",
   "metadata": {},
   "source": [
    "Method 1 "
   ]
  },
  {
   "cell_type": "code",
   "execution_count": 33,
   "metadata": {},
   "outputs": [
    {
     "name": "stdout",
     "output_type": "stream",
     "text": [
      "The humor lies in the double meaning of \"mouse.\"\n",
      "\n",
      "* **Mouse (computer):**  A small input device used with computers.\n",
      "* **Mouse (animal):** A small rodent.\n",
      "\n",
      "The joke plays on the listener's expectation that the cat is sitting on the computer for a typical reason (maybe to nap, or because it's warm).  Instead, the punchline reveals the cat's purpose is to hunt a literal mouse, creating a surprise and a chuckle.\n",
      "\n"
     ]
    }
   ],
   "source": [
    "explaination_prompt = PromptTemplate.from_template(\"Explain this joke to me {joke}\")\n",
    "chain2 = {\"joke\":chain}|explaination_prompt|model|StrOutputParser()\n",
    "print(chain2.invoke({\"animal\":\"cats\"}))"
   ]
  },
  {
   "cell_type": "markdown",
   "metadata": {},
   "source": [
    "Method 2"
   ]
  },
  {
   "cell_type": "code",
   "execution_count": 31,
   "metadata": {},
   "outputs": [
    {
     "name": "stdout",
     "output_type": "stream",
     "text": [
      "The humor lies in the double meaning of \"two left feet.\"\n",
      "\n",
      "* **Literal meaning:**  The joke plays on the common saying \"two left feet,\" which means someone is clumsy and uncoordinated.  Cats, being generally agile and graceful, are the opposite of clumsy.\n",
      "\n",
      "* **Figurative meaning:** Cats actually *do* have four feet. The joke pretends that they only use two of their feet (their \"left\" feet, implying they're all left feet even though that's impossible) and refuse to use the other two, furthering the absurdity of their supposed clumsiness.\n",
      "\n",
      "The punchline's unexpected twist (\"and they don't want to use the other two\") amplifies the silliness, making it clear that the joke relies on a playful, illogical interpretation of the idiom.  It's funny because it's nonsensical and contradicts the known reality of cats' physical abilities.\n",
      "\n"
     ]
    }
   ],
   "source": [
    "dynamic_chain = (\n",
    "    chain|(lambda x:{\"joke\":x})\n",
    "    |explaination_prompt\n",
    "    |model\n",
    "    |StrOutputParser()\n",
    ")\n",
    "print(dynamic_chain.invoke({\"animal\":\"cats\"}))"
   ]
  },
  {
   "cell_type": "code",
   "execution_count": null,
   "metadata": {},
   "outputs": [],
   "source": []
  }
 ],
 "metadata": {
  "kernelspec": {
   "display_name": "langchain_env",
   "language": "python",
   "name": "python3"
  },
  "language_info": {
   "codemirror_mode": {
    "name": "ipython",
    "version": 3
   },
   "file_extension": ".py",
   "mimetype": "text/x-python",
   "name": "python",
   "nbconvert_exporter": "python",
   "pygments_lexer": "ipython3",
   "version": "3.12.4"
  }
 },
 "nbformat": 4,
 "nbformat_minor": 2
}
